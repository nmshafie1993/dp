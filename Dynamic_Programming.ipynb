{
  "nbformat": 4,
  "nbformat_minor": 0,
  "metadata": {
    "colab": {
      "name": "Dynamic Programming",
      "provenance": [],
      "collapsed_sections": [],
      "authorship_tag": "ABX9TyNZcqmdAjt+ZUyO0gry2ARQ",
      "include_colab_link": true
    },
    "kernelspec": {
      "name": "python3",
      "display_name": "Python 3"
    }
  },
  "cells": [
    {
      "cell_type": "markdown",
      "metadata": {
        "id": "view-in-github",
        "colab_type": "text"
      },
      "source": [
        "<a href=\"https://colab.research.google.com/github/nmshafie1993/dp/blob/main/Dynamic_Programming.ipynb\" target=\"_parent\"><img src=\"https://colab.research.google.com/assets/colab-badge.svg\" alt=\"Open In Colab\"/></a>"
      ]
    },
    {
      "cell_type": "code",
      "metadata": {
        "id": "wuDXlicKzX1k"
      },
      "source": [
        "#fibonutchi recursion\r\n",
        "def fib(n):\r\n",
        "  if n <= 2:\r\n",
        "    return 1\r\n",
        "  return fib(n - 1) + fib(n - 2)"
      ],
      "execution_count": null,
      "outputs": []
    },
    {
      "cell_type": "code",
      "metadata": {
        "id": "FbTfF1HD6EGG"
      },
      "source": [
        "#fibonutchi memoization\r\n",
        "def fib(n, memo = {}):\r\n",
        "  if n in memo:\r\n",
        "    return memo[n] \r\n",
        "  if n <= 2:\r\n",
        "    return 1\r\n",
        "  memo[n] = fib(n - 1, memo) + fib(n - 2, memo)\r\n",
        "  return memo[n]"
      ],
      "execution_count": null,
      "outputs": []
    },
    {
      "cell_type": "code",
      "metadata": {
        "id": "-tqdohD_dZIT"
      },
      "source": [
        "#fibonutchi tabulation\r\n",
        "def fib(n):\r\n",
        "  array = [0 for x in range(n +  2)]\r\n",
        "  array[1] = 1\r\n",
        "  for i in range(n):\r\n",
        "    array[i+1] += array[i]\r\n",
        "    array[i+2] += array[i]\r\n",
        "  return array[n]"
      ],
      "execution_count": null,
      "outputs": []
    },
    {
      "cell_type": "code",
      "metadata": {
        "colab": {
          "base_uri": "https://localhost:8080/"
        },
        "id": "pADd0NSsznJy",
        "outputId": "b1fc5494-957c-4e5e-b8b6-8dc470ed7c4b"
      },
      "source": [
        "print(fib(6))\r\n",
        "print(fib(7))\r\n",
        "print(fib(8))"
      ],
      "execution_count": null,
      "outputs": [
        {
          "output_type": "stream",
          "text": [
            "8\n",
            "13\n",
            "21\n"
          ],
          "name": "stdout"
        }
      ]
    },
    {
      "cell_type": "code",
      "metadata": {
        "id": "RaNwzwdA6oXO"
      },
      "source": [
        "# Grid Traveler recursion\r\n",
        "def grid(n, m):\r\n",
        "  if n == 1 and m == 1:\r\n",
        "    return 1\r\n",
        "  if n == 0 or m == 0 :\r\n",
        "    return 0\r\n",
        "  return grid(n-1, m) + grid(n, m-1)"
      ],
      "execution_count": null,
      "outputs": []
    },
    {
      "cell_type": "code",
      "metadata": {
        "id": "XRxvgoNfFQsu"
      },
      "source": [
        "# Grid Traveler memoization\r\n",
        "def grid(n, m, memo = {}):\r\n",
        "  key = str(n) + \".\" + str(m)\r\n",
        "  if key in memo:\r\n",
        "    return memo[key]\r\n",
        "  if n == 1 and m == 1:\r\n",
        "    return 1\r\n",
        "  if n == 0 or m == 0 :\r\n",
        "    return 0\r\n",
        "  memo[key] = grid(n-1, m, memo) + grid(n, m-1, memo)\r\n",
        "  return memo[key]"
      ],
      "execution_count": null,
      "outputs": []
    },
    {
      "cell_type": "code",
      "metadata": {
        "id": "O847-6U5fmd9"
      },
      "source": [
        "# Grid Traveler tabulation\r\n",
        "def grid(n, m):\r\n",
        "  array = [[0 for x in range(m+1)] for y in range(n+1)]\r\n",
        "  array[1][1] = 1\r\n",
        "  #return array \r\n",
        "  for i in range(n+1):\r\n",
        "    for j in range(m+1):\r\n",
        "      current = array[i][j]\r\n",
        "      if j+1 <= m:\r\n",
        "        array[i][j+1] += current\r\n",
        "      if i+1 <= n:\r\n",
        "        array[i+1][j] += current\r\n",
        "  return array[n][m] "
      ],
      "execution_count": null,
      "outputs": []
    },
    {
      "cell_type": "code",
      "metadata": {
        "colab": {
          "base_uri": "https://localhost:8080/"
        },
        "id": "ecOHhSThDKhg",
        "outputId": "f1bfed51-73b1-4e37-dc49-1c790860414b"
      },
      "source": [
        "print(grid(1,1))\r\n",
        "print(grid(2,3))\r\n",
        "print(grid(3,3))"
      ],
      "execution_count": null,
      "outputs": [
        {
          "output_type": "stream",
          "text": [
            "1\n",
            "3\n",
            "6\n"
          ],
          "name": "stdout"
        }
      ]
    },
    {
      "cell_type": "code",
      "metadata": {
        "id": "SLLqJppaQmaf"
      },
      "source": [
        "#canSum recusrion\r\n",
        "def canSum(targetSum, numbers):\r\n",
        "  if targetSum == 0:\r\n",
        "    return True\r\n",
        "  if targetSum < 0 :\r\n",
        "    return False\r\n",
        "  for num in numbers:\r\n",
        "    remainder = targetSum - num\r\n",
        "    if canSum(remainder, numbers) == True:\r\n",
        "      return True\r\n",
        "  return False\r\n"
      ],
      "execution_count": null,
      "outputs": []
    },
    {
      "cell_type": "code",
      "metadata": {
        "id": "p9pSGpATWp3H"
      },
      "source": [
        "#canSum memoization\r\n",
        "def canSum(targetSum, numbers, memo = {}):\r\n",
        "  if targetSum in memo:\r\n",
        "    return memo[targetSum]\r\n",
        "  if targetSum == 0:\r\n",
        "    return True\r\n",
        "  if targetSum < 0 :\r\n",
        "    return False\r\n",
        "  for num in numbers:\r\n",
        "    remainder = targetSum - num\r\n",
        "    if canSum(remainder, numbers, memo) == True:\r\n",
        "      memo[targetSum] = True\r\n",
        "      return True\r\n",
        "  memo[targetSum] = False\r\n",
        "  return False\r\n"
      ],
      "execution_count": null,
      "outputs": []
    },
    {
      "cell_type": "code",
      "metadata": {
        "id": "s27TsaQ8SqHu"
      },
      "source": [
        "# canSum tabulation\r\n",
        "def canSum(targetSum, numbers):\r\n",
        "  array = [False for x in range(targetSum + 1)]\r\n",
        "  array[0] = True\r\n",
        "  for i in range(len(array)):\r\n",
        "    if array[0] == True:\r\n",
        "      for num in numbers:\r\n",
        "        if i+num < len(array):\r\n",
        "          array[i+num] = True\r\n",
        "  return array[targetSum]"
      ],
      "execution_count": null,
      "outputs": []
    },
    {
      "cell_type": "code",
      "metadata": {
        "colab": {
          "base_uri": "https://localhost:8080/"
        },
        "id": "692rYdgMUeAq",
        "outputId": "c4d711e9-ced1-45ed-df7c-743b258471a4"
      },
      "source": [
        "print(canSum(7, [2,3]))\r\n",
        "print(canSum(8, [2,5,7,3]))"
      ],
      "execution_count": null,
      "outputs": [
        {
          "output_type": "stream",
          "text": [
            "True\n",
            "True\n"
          ],
          "name": "stdout"
        }
      ]
    },
    {
      "cell_type": "code",
      "metadata": {
        "id": "zFE_L5ggb99s"
      },
      "source": [
        "#howSum recusrion\r\n",
        "def howSum(targetSum, numbers):\r\n",
        "  if targetSum == 0:\r\n",
        "    return []\r\n",
        "  if targetSum < 0:\r\n",
        "    return None\r\n",
        "  for num in numbers:\r\n",
        "    remainder = targetSum - num\r\n",
        "    remainderResult = howSum(remainder, numbers)\r\n",
        "    if remainderResult != None:\r\n",
        "      return [*remainderResult, num]\r\n",
        "  return None\r\n"
      ],
      "execution_count": null,
      "outputs": []
    },
    {
      "cell_type": "code",
      "metadata": {
        "id": "0WPA_slFSYbk"
      },
      "source": [
        "#howSum memoization\r\n",
        "def howSum(targetSum, numbers, memo = {}):\r\n",
        "  if targetSum in memo:\r\n",
        "    return memo[targetSum]\r\n",
        "  if targetSum == 0:\r\n",
        "    return []\r\n",
        "  if targetSum < 0:\r\n",
        "    return None\r\n",
        "  for num in numbers:\r\n",
        "    remainder = targetSum - num\r\n",
        "    remainderResult = howSum(remainder, numbers, memo)\r\n",
        "    if remainderResult != None:\r\n",
        "      memo[targetSum] = [*remainderResult, num]\r\n",
        "      return memo[targetSum]\r\n",
        "  return None\r\n"
      ],
      "execution_count": null,
      "outputs": []
    },
    {
      "cell_type": "code",
      "metadata": {
        "id": "AkS8XDp0wbnr"
      },
      "source": [
        "# howSum tabulation\r\n",
        "def howSum(targetSum, numbers):\r\n",
        "  array = [None for x in range(targetSum + 1)]\r\n",
        "  array[0] = []\r\n",
        "  for i in range(len(array)):\r\n",
        "    if array[i] != None:\r\n",
        "      for num in numbers:\r\n",
        "        if i + num <= targetSum:\r\n",
        "          array[i+num] = [*array[i], num]\r\n",
        "  return array[targetSum]"
      ],
      "execution_count": null,
      "outputs": []
    },
    {
      "cell_type": "code",
      "metadata": {
        "colab": {
          "base_uri": "https://localhost:8080/"
        },
        "id": "Up2uNfe-PKOR",
        "outputId": "dd779d7c-e539-4f2b-88f3-001fbd40a047"
      },
      "source": [
        "print(howSum(30, [15,16]))"
      ],
      "execution_count": null,
      "outputs": [
        {
          "output_type": "stream",
          "text": [
            "[15, 15]\n"
          ],
          "name": "stdout"
        }
      ]
    },
    {
      "cell_type": "code",
      "metadata": {
        "id": "vz_vPIVkULoj"
      },
      "source": [
        "#bestSum recusrion\r\n",
        "def bestSum(targetSum, numbers):\r\n",
        "  if targetSum == 0:\r\n",
        "    return []\r\n",
        "  if targetSum < 0:\r\n",
        "    return None\r\n",
        "  shortestComb = None\r\n",
        "  for num in numbers:\r\n",
        "    remainder = targetSum - num\r\n",
        "    newComb = bestSum(remainder, numbers)\r\n",
        "    if newComb != None:\r\n",
        "      remainderComb = [*newComb, num]\r\n",
        "      if shortestComb == None:\r\n",
        "        shortestComb = remainderComb\r\n",
        "      elif len(shortestComb) > len(remainderComb):\r\n",
        "        shortestComb = remainderComb\r\n",
        "  return shortestComb"
      ],
      "execution_count": null,
      "outputs": []
    },
    {
      "cell_type": "code",
      "metadata": {
        "id": "1kyCE_Efc4Z6"
      },
      "source": [
        "#bestSum memoization\r\n",
        "def bestSum(targetSum, numbers, memo = {}):\r\n",
        "  if targetSum in memo:\r\n",
        "    return memo[targetSum]\r\n",
        "  if targetSum == 0:\r\n",
        "    return []\r\n",
        "  if targetSum < 0:\r\n",
        "    return None\r\n",
        "  shortestComb = None\r\n",
        "  for num in numbers:\r\n",
        "    remainder = targetSum - num\r\n",
        "    newComb = bestSum(remainder, numbers, memo)\r\n",
        "    if newComb != None:\r\n",
        "      remainderComb = [*newComb, num]\r\n",
        "      if shortestComb == None:\r\n",
        "        shortestComb = remainderComb\r\n",
        "      elif len(shortestComb) > len(remainderComb):\r\n",
        "        shortestComb = remainderComb\r\n",
        "  memo[targetSum] = shortestComb\r\n",
        "  return memo[targetSum]"
      ],
      "execution_count": null,
      "outputs": []
    },
    {
      "cell_type": "code",
      "metadata": {
        "id": "LJ5h7_NzlUNv"
      },
      "source": [
        "# bestSum tabulation\r\n",
        "def bestSum(targetSum, numbers):\r\n",
        "  array = [None for x in range(targetSum + 1)]\r\n",
        "  array[0] = []\r\n",
        "  for i in range(len(array)):\r\n",
        "    if array[i] != None:\r\n",
        "      for num in numbers:\r\n",
        "        if i + num <= targetSum:\r\n",
        "          combination = [*array[i], num]\r\n",
        "          if array[i+num] == None or len(combination) < len(array[i+num]):\r\n",
        "            array[i+num] = combination\r\n",
        "  return array[targetSum]"
      ],
      "execution_count": null,
      "outputs": []
    },
    {
      "cell_type": "code",
      "metadata": {
        "colab": {
          "base_uri": "https://localhost:8080/"
        },
        "id": "KNhJlpHKYK6V",
        "outputId": "5674fd96-8114-4bac-9b43-3bc4cdcc0deb"
      },
      "source": [
        "print(bestSum(100, [1,2,5,25]))"
      ],
      "execution_count": null,
      "outputs": [
        {
          "output_type": "stream",
          "text": [
            "[25, 25, 25, 25]\n"
          ],
          "name": "stdout"
        }
      ]
    },
    {
      "cell_type": "code",
      "metadata": {
        "id": "h5Idvda1SjP1"
      },
      "source": [
        "#canConstruct recusrion\r\n",
        "def canConstruct(target, wordBank):\r\n",
        "  if target == '':\r\n",
        "    return True\r\n",
        "  for word in wordBank:\r\n",
        "    if target.find(word) == 0:\r\n",
        "      suffix = target[len(word):]\r\n",
        "      if canConstruct(suffix, wordBank):\r\n",
        "        return True\r\n",
        "  return False\r\n",
        "    "
      ],
      "execution_count": null,
      "outputs": []
    },
    {
      "cell_type": "code",
      "metadata": {
        "id": "x7BdfEJcZQ95"
      },
      "source": [
        "#canConstruct memoization\r\n",
        "def canConstruct(target, wordBank, memo = {}):\r\n",
        "  if target in memo:\r\n",
        "    return memo[target]\r\n",
        "  if target == '':\r\n",
        "    return True\r\n",
        "  for word in wordBank:\r\n",
        "    if target.find(word) == 0:\r\n",
        "      suffix = target[len(word):]\r\n",
        "      if canConstruct(suffix, wordBank, memo):\r\n",
        "        memo[target] = True\r\n",
        "        return memo[target]\r\n",
        "  memo[target] = False\r\n",
        "  return memo[target]\r\n",
        "    "
      ],
      "execution_count": null,
      "outputs": []
    },
    {
      "cell_type": "code",
      "metadata": {
        "id": "NW_0KfcloZY2"
      },
      "source": [
        "#canConstruct tabulation\r\n",
        "def canConstruct(target, wordBank):\r\n",
        "  array = [False for x in range(len(target)+1)]\r\n",
        "  array[0] = True\r\n",
        "  for i in range(len(array)):\r\n",
        "    if array[i] == True:\r\n",
        "      for word in wordBank:\r\n",
        "        if target[i:i+len(word)] == word:\r\n",
        "          array[i+len(word)] = True\r\n",
        "  return array[len(target)]\r\n"
      ],
      "execution_count": null,
      "outputs": []
    },
    {
      "cell_type": "code",
      "metadata": {
        "colab": {
          "base_uri": "https://localhost:8080/"
        },
        "id": "bb3RkZGFVq6j",
        "outputId": "07b6cba7-8efe-4ec5-c68d-0191d029b1d4"
      },
      "source": [
        "print(canConstruct('abcdef', ['ab', 'abc', 'cd', 'ef']))"
      ],
      "execution_count": null,
      "outputs": [
        {
          "output_type": "stream",
          "text": [
            "True\n"
          ],
          "name": "stdout"
        }
      ]
    },
    {
      "cell_type": "code",
      "metadata": {
        "id": "1nE-QNs3aJyg"
      },
      "source": [
        "#countConstruct recusrion\r\n",
        "def countConstruct(target, wordBank):\r\n",
        "  if target == \"\":\r\n",
        "    return 1\r\n",
        "  total = 0\r\n",
        "  for word in wordBank:\r\n",
        "    if target.find(word) == 0:\r\n",
        "      numWays = countConstruct(target[len(word):], wordBank)\r\n",
        "      total += numWays\r\n",
        "  return total"
      ],
      "execution_count": null,
      "outputs": []
    },
    {
      "cell_type": "code",
      "metadata": {
        "id": "xu947H5kdJGO"
      },
      "source": [
        "#countConstruct memoization\r\n",
        "def countConstruct(target, wordBank, memo = {}):\r\n",
        "  if target in memo:\r\n",
        "    return memo[target]\r\n",
        "  if target == \"\":\r\n",
        "    return 1\r\n",
        "  total = 0\r\n",
        "  for word in wordBank:\r\n",
        "    if target.find(word) == 0:\r\n",
        "      numWays = countConstruct(target[len(word):], wordBank, memo)\r\n",
        "      total += numWays\r\n",
        "  memo[target] = total\r\n",
        "  return memo[target]"
      ],
      "execution_count": null,
      "outputs": []
    },
    {
      "cell_type": "code",
      "metadata": {
        "id": "GVWAHN-Q-AVH"
      },
      "source": [
        "#countConstruct tabulation\r\n",
        "def countConstruct(target, wordBank):\r\n",
        "  array = [0 for x in range(len(target)+1)]\r\n",
        "  array[0] = 1\r\n",
        "  for i in range(len(array)):\r\n",
        "    for word in wordBank:\r\n",
        "      if target[i:i+len(word)] == word:\r\n",
        "        array[i+len(word)] += array[i]\r\n",
        "  return array[len(target)]"
      ],
      "execution_count": 5,
      "outputs": []
    },
    {
      "cell_type": "code",
      "metadata": {
        "colab": {
          "base_uri": "https://localhost:8080/"
        },
        "id": "qyrLnbBJcZeM",
        "outputId": "10243d2c-5d77-4b0b-f750-52f64af1df41"
      },
      "source": [
        "countConstruct(\"purple\", ['p', 'purp', 'le', 'ur', 'purpl'])"
      ],
      "execution_count": 6,
      "outputs": [
        {
          "output_type": "execute_result",
          "data": {
            "text/plain": [
              "2"
            ]
          },
          "metadata": {
            "tags": []
          },
          "execution_count": 6
        }
      ]
    },
    {
      "cell_type": "code",
      "metadata": {
        "id": "mWftjcpGeSGo"
      },
      "source": [
        "#allConstruct recusrion\r\n",
        "def allConstruct(target, wordBank):\r\n",
        "  if target == '':\r\n",
        "    return [[]]\r\n",
        "  result = []\r\n",
        "  for word in wordBank:\r\n",
        "    if target.find(word) == 0:\r\n",
        "      suffixWays = allConstruct(target[len(word):], wordBank)\r\n",
        "      targetWays = [way + [word] for way in suffixWays]\r\n",
        "      result.extend(targetWays)\r\n",
        "  return result"
      ],
      "execution_count": null,
      "outputs": []
    },
    {
      "cell_type": "code",
      "metadata": {
        "id": "w-HAEpD4ZanY"
      },
      "source": [
        "#allConstruct memoization\r\n",
        "def allConstruct(target, wordBank, memo = {}):\r\n",
        "  if target in memo:\r\n",
        "    return memo[target]\r\n",
        "  if target == '':\r\n",
        "    return [[]]\r\n",
        "  result = []\r\n",
        "  for word in wordBank:\r\n",
        "    if target.find(word) == 0:\r\n",
        "      suffixWays = allConstruct(target[len(word):], wordBank, memo)\r\n",
        "      targetWays = [way + [word] for way in suffixWays]\r\n",
        "      result.extend(targetWays)\r\n",
        "  memo[target] = result\r\n",
        "  return memo[target]"
      ],
      "execution_count": null,
      "outputs": []
    },
    {
      "cell_type": "code",
      "metadata": {
        "id": "-o9p1y-jBSm9"
      },
      "source": [
        "#allConstruct tabulation\r\n",
        "def allConstruct(target, wordBank):\r\n",
        "  array = [[] for x in range(len(target)+1)]\r\n",
        "  array[0] = [[]]\r\n",
        "  for i in range(len(array)):\r\n",
        "    for word in wordBank:\r\n",
        "      if target[i:i+len(word)] == word:\r\n",
        "        newCombination = [way + [word] for way in array[i]]\r\n",
        "        array[i+len(word)].extend(newCombination)\r\n",
        "  return array[len(target)]\r\n"
      ],
      "execution_count": 7,
      "outputs": []
    },
    {
      "cell_type": "code",
      "metadata": {
        "colab": {
          "base_uri": "https://localhost:8080/"
        },
        "id": "YT9dBBw3kF9C",
        "outputId": "7fbf99e3-53b4-49f2-a189-3f71dfceaecd"
      },
      "source": [
        "allConstruct(\"purple\", ['p', 'purp', 'le', 'ur', 'purpl'])"
      ],
      "execution_count": 8,
      "outputs": [
        {
          "output_type": "execute_result",
          "data": {
            "text/plain": [
              "[['purp', 'le'], ['p', 'ur', 'p', 'le']]"
            ]
          },
          "metadata": {
            "tags": []
          },
          "execution_count": 8
        }
      ]
    }
  ]
}